{
 "cells": [
  {
   "cell_type": "markdown",
   "metadata": {},
   "source": [
    "<img src=\"https://i2.wp.com/hackwagon.com/wp-content/uploads/2017/02/Logo-Web-Export.png?ssl=1\" width=200/>\n",
    "\n",
    "<h1>Hackwagon Academy DS102 - Problem Set 3</h1>\n",
    "<hr>\n",
    "\n",
    "This Problem Set consists of 20 questions, with each correct answer to be awarded 1 mark, totalling up to 20 marks.\n",
    "\n",
    "If you have any questions to the Problem Set, feel free to send a message to your TAs or Instructors in the Telegram chat. You are encouraged to also discuss the problem sets within your own groups.\n",
    "\n",
    "Minor syntax errors are awarded half the mark for a question."
   ]
  },
  {
   "cell_type": "code",
   "execution_count": 169,
   "metadata": {},
   "outputs": [],
   "source": [
    "#Before you start, please perform the following 2 steps:\n",
    "#1. Rename the file to FirstName_LastName Hackwagon Academy DS102 - Problem Set 3 e.g. John_Doe Hackwagon Academy DS102 - Problem Set 1\n",
    "\n",
    "#2. Fill in your details here: Lee Wai Ying Charmaine \n",
    "\n",
    "\n",
    "# FOR TA/INSTRUCTOR \n",
    "# Total Marks: 20 / 20"
   ]
  },
  {
   "cell_type": "code",
   "execution_count": 170,
   "metadata": {},
   "outputs": [],
   "source": [
    "import warnings\n",
    "warnings.filterwarnings('ignore')\n",
    "import numpy as np "
   ]
  },
  {
   "cell_type": "markdown",
   "metadata": {},
   "source": [
    "#### Credits \n",
    "\n",
    "This problem set is inspired by the [Lending Club Loan Data](https://www.kaggle.com/wendykan/lending-club-loan-data). "
   ]
  },
  {
   "cell_type": "markdown",
   "metadata": {},
   "source": [
    "<img src=\"https://d1ic4altzx8ueg.cloudfront.net/niche-builder/5cb94cef96518.png\" width=300>\n",
    "\n",
    "## Context \n",
    "\n",
    "LendingClub is a US peer-to-peer lending company, headquartered in San Francisco, California. It was the first peer-to-peer lender to register its offerings as securities with the Securities and Exchange Commission (SEC), and to offer loan trading on a secondary market. \n",
    "\n",
    "Your first project is to help LendingClub prepare a prediction model to help them detect loan defaulters. Having already conducted the sufficient exploratory data analysis, your project manager, Silver, wants you to to prepare several machine learning models. Using the dataset which you have preprocessed, `loans_transformed-200k.csv`, you will have to create both <b>supervised and unsupervised machine learning models</b>. Additionally, the `all_loan_desc.csv` dataset prepared for you to prepare a model on the loans descriptions. \n",
    "\n",
    "There are a total of 4 parts to this problem set:\n",
    "\n",
    "1. Naive Bayes Classifier - 9 marks\n",
    "2. K-Means Clustering - 6 marks\n",
    "3. Decision Tree Classifier - 3 marks\n",
    "4. Performance Measures - 2 marks"
   ]
  },
  {
   "cell_type": "markdown",
   "metadata": {},
   "source": [
    "## Naive Bayes Classifier - 9 marks\n",
    "\n",
    "Another team has prepared for you all of the descriptions within the loans dataset. This dataset has filtered for you rows with descriptions and the target variable the loan status. Your task is to clean it further and use <b>Naive Bayes Classification</b> technique to develop a model for detecting loan defaulters."
   ]
  },
  {
   "cell_type": "markdown",
   "metadata": {},
   "source": [
    "### Open Loans Decription File \n",
    "\n",
    "Open the file `all_loan_desc.csv` and store it as `all_desc_df`.\n",
    "\n",
    "What is the shape of `all_desc_df`?"
   ]
  },
  {
   "cell_type": "code",
   "execution_count": 171,
   "metadata": {
    "scrolled": true
   },
   "outputs": [
    {
     "name": "stdout",
     "output_type": "stream",
     "text": [
      "(126067, 2)\n"
     ]
    }
   ],
   "source": [
    "import pandas as pd\n",
    "import sklearn\n",
    "\n",
    "all_desc_df = pd.read_csv(\"all_loan_desc.csv\")\n",
    "print(all_desc_df.shape)\n",
    "# 126067 rows, 2 column "
   ]
  },
  {
   "cell_type": "markdown",
   "metadata": {},
   "source": [
    "### Q1. Integer Encoding\n",
    "\n",
    "Tasks:\n",
    "\n",
    "1. Observe the unique values in `loan_status`.  \n",
    "2.  Create a new column `target` based on the values in `loan_status`. \n",
    "\n",
    "    Mapping:\n",
    "    * `1` if `loan_status` contains `Charged Off`.\n",
    "    * `0` otherwise\n",
    "\n",
    "\n",
    "\n",
    "3. Reduce the dataframe to just the columns `desc` and `target`.\n",
    "\n",
    " or `Default`\n",
    " \n",
    " \n",
    "**Expected Outputs:**\n",
    "```\n",
    "array(['Charged Off', 'Fully Paid', 'Current', 'Late (16-30 days)',\n",
    "       'Late (31-120 days)', 'In Grace Period',\n",
    "       'Does not meet the credit policy. Status:Fully Paid',\n",
    "       'Does not meet the credit policy. Status:Charged Off'],\n",
    "      dtype=object)\n",
    "```\n",
    "\n",
    "<img src=\"https://i.imgur.com/ztyxJh0.png\">"
   ]
  },
  {
   "cell_type": "code",
   "execution_count": 172,
   "metadata": {},
   "outputs": [
    {
     "data": {
      "text/plain": [
       "array(['Charged Off', 'Fully Paid', 'Current', 'Late (16-30 days)',\n",
       "       'Late (31-120 days)', 'In Grace Period',\n",
       "       'Does not meet the credit policy. Status:Fully Paid',\n",
       "       'Does not meet the credit policy. Status:Charged Off'],\n",
       "      dtype=object)"
      ]
     },
     "execution_count": 172,
     "metadata": {},
     "output_type": "execute_result"
    }
   ],
   "source": [
    "all_desc_df['loan_status'].unique()   # unique values "
   ]
  },
  {
   "cell_type": "code",
   "execution_count": 173,
   "metadata": {},
   "outputs": [],
   "source": [
    "def status_changer(x):\n",
    "    if 'Charged Off' in x:\n",
    "        return '1'\n",
    "    else:\n",
    "        return '0'"
   ]
  },
  {
   "cell_type": "code",
   "execution_count": 174,
   "metadata": {},
   "outputs": [
    {
     "data": {
      "text/html": [
       "<div>\n",
       "<style scoped>\n",
       "    .dataframe tbody tr th:only-of-type {\n",
       "        vertical-align: middle;\n",
       "    }\n",
       "\n",
       "    .dataframe tbody tr th {\n",
       "        vertical-align: top;\n",
       "    }\n",
       "\n",
       "    .dataframe thead th {\n",
       "        text-align: right;\n",
       "    }\n",
       "</style>\n",
       "<table border=\"1\" class=\"dataframe\">\n",
       "  <thead>\n",
       "    <tr style=\"text-align: right;\">\n",
       "      <th></th>\n",
       "      <th>desc</th>\n",
       "      <th>loan_status</th>\n",
       "      <th>target</th>\n",
       "    </tr>\n",
       "  </thead>\n",
       "  <tbody>\n",
       "    <tr>\n",
       "      <th>0</th>\n",
       "      <td></td>\n",
       "      <td>Charged Off</td>\n",
       "      <td>1</td>\n",
       "    </tr>\n",
       "    <tr>\n",
       "      <th>1</th>\n",
       "      <td></td>\n",
       "      <td>Fully Paid</td>\n",
       "      <td>0</td>\n",
       "    </tr>\n",
       "    <tr>\n",
       "      <th>2</th>\n",
       "      <td>I currently have a loan out with CashCall. The...</td>\n",
       "      <td>Fully Paid</td>\n",
       "      <td>0</td>\n",
       "    </tr>\n",
       "    <tr>\n",
       "      <th>3</th>\n",
       "      <td>Consolidate debt</td>\n",
       "      <td>Current</td>\n",
       "      <td>0</td>\n",
       "    </tr>\n",
       "    <tr>\n",
       "      <th>4</th>\n",
       "      <td>This loan will be used solely to consolidate c...</td>\n",
       "      <td>Fully Paid</td>\n",
       "      <td>0</td>\n",
       "    </tr>\n",
       "  </tbody>\n",
       "</table>\n",
       "</div>"
      ],
      "text/plain": [
       "                                                desc  loan_status target\n",
       "0                                                     Charged Off      1\n",
       "1                                                      Fully Paid      0\n",
       "2  I currently have a loan out with CashCall. The...   Fully Paid      0\n",
       "3                                   Consolidate debt      Current      0\n",
       "4  This loan will be used solely to consolidate c...   Fully Paid      0"
      ]
     },
     "execution_count": 174,
     "metadata": {},
     "output_type": "execute_result"
    }
   ],
   "source": [
    "all_desc_df['target'] = all_desc_df['loan_status'].apply(status_changer)\n",
    "all_desc_df.head()"
   ]
  },
  {
   "cell_type": "code",
   "execution_count": 175,
   "metadata": {},
   "outputs": [
    {
     "data": {
      "text/html": [
       "<div>\n",
       "<style scoped>\n",
       "    .dataframe tbody tr th:only-of-type {\n",
       "        vertical-align: middle;\n",
       "    }\n",
       "\n",
       "    .dataframe tbody tr th {\n",
       "        vertical-align: top;\n",
       "    }\n",
       "\n",
       "    .dataframe thead th {\n",
       "        text-align: right;\n",
       "    }\n",
       "</style>\n",
       "<table border=\"1\" class=\"dataframe\">\n",
       "  <thead>\n",
       "    <tr style=\"text-align: right;\">\n",
       "      <th></th>\n",
       "      <th>desc</th>\n",
       "      <th>target</th>\n",
       "    </tr>\n",
       "  </thead>\n",
       "  <tbody>\n",
       "    <tr>\n",
       "      <th>0</th>\n",
       "      <td></td>\n",
       "      <td>1</td>\n",
       "    </tr>\n",
       "    <tr>\n",
       "      <th>1</th>\n",
       "      <td></td>\n",
       "      <td>0</td>\n",
       "    </tr>\n",
       "    <tr>\n",
       "      <th>2</th>\n",
       "      <td>I currently have a loan out with CashCall. The...</td>\n",
       "      <td>0</td>\n",
       "    </tr>\n",
       "    <tr>\n",
       "      <th>3</th>\n",
       "      <td>Consolidate debt</td>\n",
       "      <td>0</td>\n",
       "    </tr>\n",
       "    <tr>\n",
       "      <th>4</th>\n",
       "      <td>This loan will be used solely to consolidate c...</td>\n",
       "      <td>0</td>\n",
       "    </tr>\n",
       "  </tbody>\n",
       "</table>\n",
       "</div>"
      ],
      "text/plain": [
       "                                                desc target\n",
       "0                                                         1\n",
       "1                                                         0\n",
       "2  I currently have a loan out with CashCall. The...      0\n",
       "3                                   Consolidate debt      0\n",
       "4  This loan will be used solely to consolidate c...      0"
      ]
     },
     "execution_count": 175,
     "metadata": {},
     "output_type": "execute_result"
    }
   ],
   "source": [
    "# reduce dataframe \n",
    "new_df = all_desc_df[['desc','target']]\n",
    "new_df.head()"
   ]
  },
  {
   "cell_type": "code",
   "execution_count": 176,
   "metadata": {},
   "outputs": [],
   "source": [
    "## TA/INSTRUCTOR ONLY\n",
    "## MARK AWARDED: 1/1"
   ]
  },
  {
   "cell_type": "markdown",
   "metadata": {},
   "source": [
    "### Q2. Simple Cleaning\n",
    "\n",
    "Conduct simple cleaning on the `desc` variable, such that the descriptions:\n",
    "\n",
    "1. Contain only alphanumeric characters (<i>hint: use regular expression `\"[^0-9a-zA-Z\\ ]\"`</i>)\n",
    "2. Are entirely lowercase\n",
    "3. Does not have leading or trailing spaces \n",
    "\n",
    "Also remove rows where `desc` is an empty string.\n",
    "\n",
    "4. Are not empty strings (<i>hint: use filter to check for empty strings `''`</i>)\n",
    "\n",
    "\n",
    "What is the shape of the dataset after cleaning?\n",
    "\n",
    "\n",
    "**Expected Output:**\n",
    "```\n",
    "    125813 rows × 2 columns\n",
    "```\n",
    "<img src=\"https://i.imgur.com/pbLsgSa.png\">"
   ]
  },
  {
   "cell_type": "code",
   "execution_count": 177,
   "metadata": {},
   "outputs": [],
   "source": [
    "# only alphanumeric characters \n",
    "import re\n",
    "\n",
    "def clean(text):\n",
    "    pattern = re.compile(\"[^0-9a-zA-Z\\ ]\")\n",
    "    text = re.sub(pattern, \"\", text)\n",
    "    return text.lower().strip()\n",
    "\n",
    "new_df['desc'] = new_df['desc'].apply(clean)"
   ]
  },
  {
   "cell_type": "code",
   "execution_count": 178,
   "metadata": {},
   "outputs": [
    {
     "data": {
      "text/html": [
       "<div>\n",
       "<style scoped>\n",
       "    .dataframe tbody tr th:only-of-type {\n",
       "        vertical-align: middle;\n",
       "    }\n",
       "\n",
       "    .dataframe tbody tr th {\n",
       "        vertical-align: top;\n",
       "    }\n",
       "\n",
       "    .dataframe thead th {\n",
       "        text-align: right;\n",
       "    }\n",
       "</style>\n",
       "<table border=\"1\" class=\"dataframe\">\n",
       "  <thead>\n",
       "    <tr style=\"text-align: right;\">\n",
       "      <th></th>\n",
       "      <th>desc</th>\n",
       "      <th>target</th>\n",
       "    </tr>\n",
       "  </thead>\n",
       "  <tbody>\n",
       "    <tr>\n",
       "      <th>2</th>\n",
       "      <td>i currently have a loan out with cashcall the ...</td>\n",
       "      <td>0</td>\n",
       "    </tr>\n",
       "    <tr>\n",
       "      <th>3</th>\n",
       "      <td>consolidate debt</td>\n",
       "      <td>0</td>\n",
       "    </tr>\n",
       "    <tr>\n",
       "      <th>4</th>\n",
       "      <td>this loan will be used solely to consolidate c...</td>\n",
       "      <td>0</td>\n",
       "    </tr>\n",
       "    <tr>\n",
       "      <th>5</th>\n",
       "      <td>i have recently purchased and built a new home...</td>\n",
       "      <td>0</td>\n",
       "    </tr>\n",
       "    <tr>\n",
       "      <th>6</th>\n",
       "      <td>temporary cash flow challenges would like this...</td>\n",
       "      <td>0</td>\n",
       "    </tr>\n",
       "  </tbody>\n",
       "</table>\n",
       "</div>"
      ],
      "text/plain": [
       "                                                desc target\n",
       "2  i currently have a loan out with cashcall the ...      0\n",
       "3                                   consolidate debt      0\n",
       "4  this loan will be used solely to consolidate c...      0\n",
       "5  i have recently purchased and built a new home...      0\n",
       "6  temporary cash flow challenges would like this...      0"
      ]
     },
     "execution_count": 178,
     "metadata": {},
     "output_type": "execute_result"
    }
   ],
   "source": [
    "# replace empty strings \n",
    "new_df['desc'].replace('', np.nan, inplace = True)\n",
    "new_df.dropna(subset=['desc'], inplace=True)\n",
    "\n",
    "new_df.head()"
   ]
  },
  {
   "cell_type": "code",
   "execution_count": 179,
   "metadata": {},
   "outputs": [
    {
     "data": {
      "text/plain": [
       "(125813, 2)"
      ]
     },
     "execution_count": 179,
     "metadata": {},
     "output_type": "execute_result"
    }
   ],
   "source": [
    "new_df.shape\n",
    "# 125813 rows, 2 columns "
   ]
  },
  {
   "cell_type": "code",
   "execution_count": 180,
   "metadata": {},
   "outputs": [],
   "source": [
    "## TA/INSTRUCTOR ONLY\n",
    "## MARK AWARDED: 1/1"
   ]
  },
  {
   "cell_type": "markdown",
   "metadata": {},
   "source": [
    "### Q3. Tokenize and Stem Words\n",
    "\n",
    "For simplicity and lower processing time, you decided to use `PorterStemmer` to stem each word. As such, you would need to reduce each description to their root form. \n",
    "\n",
    "Steps: \n",
    "\n",
    "1. With the `nltk` library, use `word_tokenize` to tokenize each description to a list of words.\n",
    "2. Use the `PorterStemmer` to stem each word using a for-loop. \n",
    "3. Join up the stemmed words as a string.\n",
    "\n",
    "All steps above must be done <b>within the same function.</b> Your function should return a string.\n",
    "\n",
    "Using the `apply()` method, create a new column called `desc_stem` in `all_desc_df`. \n",
    "\n",
    "<b>Note: This part might take awhile to run (an average of 3 minutes).</b>\n",
    "\n",
    "<div class=\"alert alert-success\">\n",
    "<h3>Important: How to test and debug a smaller set first?</h3>\n",
    "\n",
    "* Subset `all_desc_df` to 10 rows in `test_df`\n",
    "* Test your code with the smaller set `test_df` first and observe the results in column `desc_stem`\n",
    "* <b>Only when all is well, then run your code with the large dataset `all_desc_df`</b>\n",
    "</div>\n",
    "\n",
    "**Expected Output:**\n",
    "\n",
    "<img src=\"https://i.imgur.com/XXDqd3i.png\">"
   ]
  },
  {
   "cell_type": "code",
   "execution_count": 181,
   "metadata": {},
   "outputs": [],
   "source": [
    "import nltk\n",
    "\n",
    "# Downloading word corpus\n",
    "#nltk.download('punkt') # STEMMING\n",
    "#nltk.download('averaged_perceptron_tagger') # < POS TAGGING\n",
    "#nltk.download('wordnet') # LEMMATISATION\n",
    "#nltk.download('stopwords') # STOPWORDS"
   ]
  },
  {
   "cell_type": "code",
   "execution_count": 182,
   "metadata": {},
   "outputs": [],
   "source": [
    "from nltk.tokenize import word_tokenize\n",
    "# tokenize each title using list comprehension\n",
    "from nltk.stem import PorterStemmer\n",
    "stemmer = PorterStemmer()\n",
    "\n",
    "# tokenise and stem words \n",
    "def function(desc):\n",
    "    token_list = word_tokenize(desc)\n",
    "    stemmed_list = []\n",
    "    new_desc = ''\n",
    "    \n",
    "    for x in token_list:\n",
    "        new_x = stemmer.stem(x)\n",
    "        stemmed_list.append(new_x)\n",
    "        \n",
    "    for word in stemmed_list:\n",
    "        new_desc += word + ' '\n",
    "    return new_desc "
   ]
  },
  {
   "cell_type": "code",
   "execution_count": 183,
   "metadata": {},
   "outputs": [
    {
     "data": {
      "text/html": [
       "<div>\n",
       "<style scoped>\n",
       "    .dataframe tbody tr th:only-of-type {\n",
       "        vertical-align: middle;\n",
       "    }\n",
       "\n",
       "    .dataframe tbody tr th {\n",
       "        vertical-align: top;\n",
       "    }\n",
       "\n",
       "    .dataframe thead th {\n",
       "        text-align: right;\n",
       "    }\n",
       "</style>\n",
       "<table border=\"1\" class=\"dataframe\">\n",
       "  <thead>\n",
       "    <tr style=\"text-align: right;\">\n",
       "      <th></th>\n",
       "      <th>desc</th>\n",
       "      <th>target</th>\n",
       "      <th>desc_stem</th>\n",
       "    </tr>\n",
       "  </thead>\n",
       "  <tbody>\n",
       "    <tr>\n",
       "      <th>2</th>\n",
       "      <td>i currently have a loan out with cashcall the ...</td>\n",
       "      <td>0</td>\n",
       "      <td>i current have a loan out with cashcal the int...</td>\n",
       "    </tr>\n",
       "    <tr>\n",
       "      <th>3</th>\n",
       "      <td>consolidate debt</td>\n",
       "      <td>0</td>\n",
       "      <td>consolid debt</td>\n",
       "    </tr>\n",
       "    <tr>\n",
       "      <th>4</th>\n",
       "      <td>this loan will be used solely to consolidate c...</td>\n",
       "      <td>0</td>\n",
       "      <td>thi loan will be use sole to consolid credit c...</td>\n",
       "    </tr>\n",
       "    <tr>\n",
       "      <th>5</th>\n",
       "      <td>i have recently purchased and built a new home...</td>\n",
       "      <td>0</td>\n",
       "      <td>i have recent purchas and built a new home tha...</td>\n",
       "    </tr>\n",
       "    <tr>\n",
       "      <th>6</th>\n",
       "      <td>temporary cash flow challenges would like this...</td>\n",
       "      <td>0</td>\n",
       "      <td>temporari cash flow challeng would like thi lo...</td>\n",
       "    </tr>\n",
       "  </tbody>\n",
       "</table>\n",
       "</div>"
      ],
      "text/plain": [
       "                                                desc target  \\\n",
       "2  i currently have a loan out with cashcall the ...      0   \n",
       "3                                   consolidate debt      0   \n",
       "4  this loan will be used solely to consolidate c...      0   \n",
       "5  i have recently purchased and built a new home...      0   \n",
       "6  temporary cash flow challenges would like this...      0   \n",
       "\n",
       "                                           desc_stem  \n",
       "2  i current have a loan out with cashcal the int...  \n",
       "3                                     consolid debt   \n",
       "4  thi loan will be use sole to consolid credit c...  \n",
       "5  i have recent purchas and built a new home tha...  \n",
       "6  temporari cash flow challeng would like thi lo...  "
      ]
     },
     "execution_count": 183,
     "metadata": {},
     "output_type": "execute_result"
    }
   ],
   "source": [
    "new_df['desc_stem'] = new_df['desc'].apply(function)\n",
    "new_df.head()"
   ]
  },
  {
   "cell_type": "code",
   "execution_count": 184,
   "metadata": {},
   "outputs": [],
   "source": [
    "## TA/INSTRUCTOR ONLY\n",
    "## MARK AWARDED: 1/1"
   ]
  },
  {
   "cell_type": "markdown",
   "metadata": {},
   "source": [
    "### Q4. Stop Words Removal\n",
    "\n",
    "To keep only relevant words, you will remove all stopwords from each description by using the `stopwords` corpus to remove them. \n",
    "\n",
    "Steps: \n",
    "\n",
    "1. Create the list of stopwords in `english`\n",
    "2. Tokenize the each description\n",
    "3. Check for stopwords \n",
    "4. Join up non stopwords as a string\n",
    "\n",
    "All steps, except step 1, must be done <b>within the same function.</b> Your function should return a string.\n",
    "\n",
    "Using the `apply()` method, create a new column called `desc_no_stopwords` to the `all_desc_df`. \n",
    "\n",
    "<b>Note: This part might take awhile to run (an average of 2 minutes).</b>\n",
    "\n",
    "<div class=\"alert alert-success\">\n",
    "    <h4>Again, how to test and debug a smaller set first?</h4>\n",
    "\n",
    "* Subset `all_desc_df` to 10 rows in `test_df`\n",
    "* Test your code with the smaller set `test_df` first and observe the results\n",
    "* <b>Only when all is well, then run your code with the large dataset `all_desc_df`</b>\n",
    "</div>\n",
    "\n",
    "**Expected Output:**\n",
    "\n",
    "Notice that the cleaned descriptions without stop words is stored in `desc_cleaned`\n",
    "\n",
    "<img src=\"https://i.imgur.com/1fED4Uu.png\">"
   ]
  },
  {
   "cell_type": "code",
   "execution_count": 185,
   "metadata": {},
   "outputs": [],
   "source": [
    "from nltk.corpus import stopwords\n",
    "\n",
    "STOP_WORDS = list(stopwords.words('english'))"
   ]
  },
  {
   "cell_type": "code",
   "execution_count": 186,
   "metadata": {},
   "outputs": [],
   "source": [
    "# creating function \n",
    "def function(x):\n",
    "    tokens = word_tokenize(x)\n",
    "    new_list = []\n",
    "    new_str = ''\n",
    "    \n",
    "    for word in tokens:\n",
    "        if word not in STOP_WORDS:\n",
    "            new_str += word + ' '\n",
    "    return new_str"
   ]
  },
  {
   "cell_type": "code",
   "execution_count": 187,
   "metadata": {},
   "outputs": [
    {
     "data": {
      "text/html": [
       "<div>\n",
       "<style scoped>\n",
       "    .dataframe tbody tr th:only-of-type {\n",
       "        vertical-align: middle;\n",
       "    }\n",
       "\n",
       "    .dataframe tbody tr th {\n",
       "        vertical-align: top;\n",
       "    }\n",
       "\n",
       "    .dataframe thead th {\n",
       "        text-align: right;\n",
       "    }\n",
       "</style>\n",
       "<table border=\"1\" class=\"dataframe\">\n",
       "  <thead>\n",
       "    <tr style=\"text-align: right;\">\n",
       "      <th></th>\n",
       "      <th>desc</th>\n",
       "      <th>target</th>\n",
       "      <th>desc_stem</th>\n",
       "      <th>desc_no_stopwords</th>\n",
       "    </tr>\n",
       "  </thead>\n",
       "  <tbody>\n",
       "    <tr>\n",
       "      <th>2</th>\n",
       "      <td>i currently have a loan out with cashcall the ...</td>\n",
       "      <td>0</td>\n",
       "      <td>i current have a loan out with cashcal the int...</td>\n",
       "      <td>current loan cashcal interest rate 96 time too...</td>\n",
       "    </tr>\n",
       "    <tr>\n",
       "      <th>3</th>\n",
       "      <td>consolidate debt</td>\n",
       "      <td>0</td>\n",
       "      <td>consolid debt</td>\n",
       "      <td>consolid debt</td>\n",
       "    </tr>\n",
       "    <tr>\n",
       "      <th>4</th>\n",
       "      <td>this loan will be used solely to consolidate c...</td>\n",
       "      <td>0</td>\n",
       "      <td>thi loan will be use sole to consolid credit c...</td>\n",
       "      <td>thi loan use sole consolid credit card debt ac...</td>\n",
       "    </tr>\n",
       "    <tr>\n",
       "      <th>5</th>\n",
       "      <td>i have recently purchased and built a new home...</td>\n",
       "      <td>0</td>\n",
       "      <td>i have recent purchas and built a new home tha...</td>\n",
       "      <td>recent purchas built new home alway dream woul...</td>\n",
       "    </tr>\n",
       "    <tr>\n",
       "      <th>6</th>\n",
       "      <td>temporary cash flow challenges would like this...</td>\n",
       "      <td>0</td>\n",
       "      <td>temporari cash flow challeng would like thi lo...</td>\n",
       "      <td>temporari cash flow challeng would like thi lo...</td>\n",
       "    </tr>\n",
       "  </tbody>\n",
       "</table>\n",
       "</div>"
      ],
      "text/plain": [
       "                                                desc target  \\\n",
       "2  i currently have a loan out with cashcall the ...      0   \n",
       "3                                   consolidate debt      0   \n",
       "4  this loan will be used solely to consolidate c...      0   \n",
       "5  i have recently purchased and built a new home...      0   \n",
       "6  temporary cash flow challenges would like this...      0   \n",
       "\n",
       "                                           desc_stem  \\\n",
       "2  i current have a loan out with cashcal the int...   \n",
       "3                                     consolid debt    \n",
       "4  thi loan will be use sole to consolid credit c...   \n",
       "5  i have recent purchas and built a new home tha...   \n",
       "6  temporari cash flow challeng would like thi lo...   \n",
       "\n",
       "                                   desc_no_stopwords  \n",
       "2  current loan cashcal interest rate 96 time too...  \n",
       "3                                     consolid debt   \n",
       "4  thi loan use sole consolid credit card debt ac...  \n",
       "5  recent purchas built new home alway dream woul...  \n",
       "6  temporari cash flow challeng would like thi lo...  "
      ]
     },
     "execution_count": 187,
     "metadata": {},
     "output_type": "execute_result"
    }
   ],
   "source": [
    "new_df['desc_no_stopwords'] = new_df['desc_stem'].apply(function)\n",
    "new_df.head()"
   ]
  },
  {
   "cell_type": "code",
   "execution_count": 188,
   "metadata": {},
   "outputs": [],
   "source": [
    "## TA/INSTRUCTOR ONLY\n",
    "## MARK AWARDED: 1/1"
   ]
  },
  {
   "cell_type": "markdown",
   "metadata": {},
   "source": [
    "### Q5. Train Test Split\n",
    "\n",
    "Remember why we need to do a train test split?\n",
    "\n",
    "<img src=\"https://i.imgur.com/qOLmXIt.png\" width=500/>\n",
    "\n",
    "Split your data up into training and testing sets using `train_test_split` from `sklearn.model_selection`.  Split into into 4 different variables, `x_train`, `x_test`, `y_train` and `y_test`, where: \n",
    "\n",
    "- <b>first</b> argument: create a new dataframe from the `desc_cleaned` column of `all_desc_df` <b>(`all_desc_df[['desc_cleaned']]`)</b>\n",
    "- <b>second</b> argument: should <b>only</b> be the `target` column of `all_desc_df`\n",
    "- `random_state` is 0\n",
    "- `test_size` is 0.2\n",
    "\n",
    "Check the shapes of x_train, x_test, y_train, y_test.\n",
    "\n",
    "\n",
    "**Expected Output:**\n",
    "\n",
    "```\n",
    "    x_train (100650, 1) x_test (25163, 1) y_train (100650,) y_test (25163,)\n",
    "```\n"
   ]
  },
  {
   "cell_type": "code",
   "execution_count": 189,
   "metadata": {},
   "outputs": [
    {
     "name": "stdout",
     "output_type": "stream",
     "text": [
      "(100650, 1)\n",
      "(100650,)\n",
      "(25163,)\n",
      "(25163, 1)\n"
     ]
    }
   ],
   "source": [
    "from sklearn.model_selection import train_test_split\n",
    "\n",
    "X = new_df[['desc_no_stopwords']]\n",
    "y = new_df['target']\n",
    "\n",
    "X_train, X_test, y_train, y_test = train_test_split(X, y, random_state=0, test_size=0.2)\n",
    "print(X_train.shape)\n",
    "print(y_train.shape)\n",
    "print(y_test.shape)\n",
    "print(X_test.shape)"
   ]
  },
  {
   "cell_type": "code",
   "execution_count": 190,
   "metadata": {},
   "outputs": [],
   "source": [
    "## TA/INSTRUCTOR ONLY\n",
    "## MARK AWARDED: 1/1"
   ]
  },
  {
   "cell_type": "markdown",
   "metadata": {},
   "source": [
    "### Q6. Vectorizer\n",
    "\n",
    "As you would be using the Naive Bayes Classifier for your model, you would need to transform your cleaned description into a document-term matrix of 1s and 0s (known as one-hot encoding). \n",
    "\n",
    "Use the `CountVectorizer` to `fit_transform()` your training-set's `desc_cleaned` column into a new document-term matrix, called `desc_matrix`.  Your training-set is in `x_train`.\n",
    "\n",
    "(Q) How many columns are there in your one-hot encoded matrix `desc_matrix`?  What does these columns represent?\n",
    "\n",
    "Expected Output:\n",
    "```\n",
    "    54993 columns\n",
    "```"
   ]
  },
  {
   "cell_type": "code",
   "execution_count": 191,
   "metadata": {},
   "outputs": [
    {
     "data": {
      "text/plain": [
       "<100650x54993 sparse matrix of type '<class 'numpy.int64'>'\n",
       "\twith 2039078 stored elements in Compressed Sparse Row format>"
      ]
     },
     "execution_count": 191,
     "metadata": {},
     "output_type": "execute_result"
    }
   ],
   "source": [
    "from sklearn.feature_extraction.text import CountVectorizer\n",
    "\n",
    "vectorizer = CountVectorizer()\n",
    "\n",
    "# fitted = vectorizer.fit(docs_as_is)\n",
    "# matrix = fitted.transform(docs_as_is)\n",
    "\n",
    "desc_matrix = vectorizer.fit_transform(X_train['desc_no_stopwords'])\n",
    "desc_matrix\n"
   ]
  },
  {
   "cell_type": "code",
   "execution_count": 192,
   "metadata": {},
   "outputs": [],
   "source": [
    "## TA/INSTRUCTOR ONLY\n",
    "## MARK AWARDED: 1/1"
   ]
  },
  {
   "cell_type": "markdown",
   "metadata": {},
   "source": [
    "### Q7. Multinomial Naive Bayes Classifier \n",
    "\n",
    "Create a new `MultinomialNB` classifer and name it as `desc_classifier`.\n",
    "\n",
    "<a href=\"https://scikit-learn.org/stable/modules/generated/sklearn.naive_bayes.MultinomialNB.html#:~:text=The%20multinomial%20Naive%20Bayes%20classifier,tf%2Didf%20may%20also%20work\">Documentation here</a>.\n",
    "\n",
    "Then train the classifier using it's `.fit()` \n",
    "\n",
    "Use the vectorized document-term matrix, `desc_matrix`  as x and `y_train` as y."
   ]
  },
  {
   "cell_type": "code",
   "execution_count": 193,
   "metadata": {},
   "outputs": [],
   "source": [
    "from sklearn.feature_extraction.text import CountVectorizer\n",
    "from sklearn.naive_bayes import MultinomialNB"
   ]
  },
  {
   "cell_type": "code",
   "execution_count": 194,
   "metadata": {},
   "outputs": [
    {
     "data": {
      "text/plain": [
       "MultinomialNB(alpha=1.0, class_prior=None, fit_prior=True)"
      ]
     },
     "execution_count": 194,
     "metadata": {},
     "output_type": "execute_result"
    }
   ],
   "source": [
    "# Train a multinomial classifier using the training set using the features and the training set labels\n",
    "desc_classifier = MultinomialNB().fit(\n",
    "    # input features - matrix of wordcounts\n",
    "    desc_matrix, \n",
    "    y_train\n",
    ")\n",
    "desc_classifier"
   ]
  },
  {
   "cell_type": "code",
   "execution_count": 195,
   "metadata": {},
   "outputs": [],
   "source": [
    "## TA/INSTRUCTOR ONLY\n",
    "## MARK AWARDED: 1/1"
   ]
  },
  {
   "cell_type": "markdown",
   "metadata": {},
   "source": [
    "### Q8. Confusion Matrix\n",
    "\n",
    "Congraluations on building your Naive Bayes model.  You would like to measure the model's performance using the TEST set.\n",
    "\n",
    "Follow these steps:\n",
    "\n",
    "1. Vectorize (transform) `desc_cleaned` column/variable in `x_test` and store in `x_matrix`\n",
    "2. Generate the prediction results using the vectorized test set `x_matrix` and store in `predicted_results`\n",
    "3. Create the confusion matrix using the predicted values and actual values in the TEST set and print it\n",
    "4. Visualize the confusion matrix\n",
    "\n",
    "**Expected Output:**\n",
    "\n",
    "```\n",
    "[[21033   261]\n",
    " [ 3760   109]]\n",
    "```\n",
    "<img src=\"https://i.imgur.com/ZGaiqnj.png\" width=400>"
   ]
  },
  {
   "cell_type": "code",
   "execution_count": 196,
   "metadata": {},
   "outputs": [],
   "source": [
    "# vectorise\n",
    "x_matrix = vectorizer.transform(X_test['desc_no_stopwords'])\n",
    "# predicting \n",
    "predicted_results = desc_classifier.predict(x_matrix)"
   ]
  },
  {
   "cell_type": "code",
   "execution_count": 197,
   "metadata": {
    "scrolled": true
   },
   "outputs": [],
   "source": [
    "# conda install -c conda-forge scikit-learn"
   ]
  },
  {
   "cell_type": "code",
   "execution_count": 198,
   "metadata": {},
   "outputs": [
    {
     "ename": "ImportError",
     "evalue": "cannot import name 'plot_confusion_matrix' from 'sklearn.metrics' (C:\\Users\\User\\anaconda3\\lib\\site-packages\\sklearn\\metrics\\__init__.py)",
     "output_type": "error",
     "traceback": [
      "\u001b[1;31m---------------------------------------------------------------------------\u001b[0m",
      "\u001b[1;31mImportError\u001b[0m                               Traceback (most recent call last)",
      "\u001b[1;32m<ipython-input-198-88320f1c7e5f>\u001b[0m in \u001b[0;36m<module>\u001b[1;34m\u001b[0m\n\u001b[0;32m      2\u001b[0m \u001b[1;32mimport\u001b[0m \u001b[0mmatplotlib\u001b[0m\u001b[1;33m.\u001b[0m\u001b[0mpyplot\u001b[0m \u001b[1;32mas\u001b[0m \u001b[0mplt\u001b[0m\u001b[1;33m\u001b[0m\u001b[1;33m\u001b[0m\u001b[0m\n\u001b[0;32m      3\u001b[0m \u001b[1;32mfrom\u001b[0m \u001b[0msklearn\u001b[0m\u001b[1;33m.\u001b[0m\u001b[0mmetrics\u001b[0m \u001b[1;32mimport\u001b[0m \u001b[0mconfusion_matrix\u001b[0m\u001b[1;33m\u001b[0m\u001b[1;33m\u001b[0m\u001b[0m\n\u001b[1;32m----> 4\u001b[1;33m \u001b[1;32mfrom\u001b[0m \u001b[0msklearn\u001b[0m\u001b[1;33m.\u001b[0m\u001b[0mmetrics\u001b[0m \u001b[1;32mimport\u001b[0m \u001b[0mplot_confusion_matrix\u001b[0m\u001b[1;33m\u001b[0m\u001b[1;33m\u001b[0m\u001b[0m\n\u001b[0m",
      "\u001b[1;31mImportError\u001b[0m: cannot import name 'plot_confusion_matrix' from 'sklearn.metrics' (C:\\Users\\User\\anaconda3\\lib\\site-packages\\sklearn\\metrics\\__init__.py)"
     ]
    }
   ],
   "source": [
    "import seaborn as sns\n",
    "import matplotlib.pyplot as plt\n",
    "from sklearn.metrics import confusion_matrix\n",
    "from sklearn.metrics import plot_confusion_matrix"
   ]
  },
  {
   "cell_type": "code",
   "execution_count": 199,
   "metadata": {},
   "outputs": [
    {
     "data": {
      "image/png": "[encoded data removed]",
      "text/plain": [
       "<Figure size 576x360 with 2 Axes>"
      ]
     },
     "metadata": {
      "needs_background": "light"
     },
     "output_type": "display_data"
    }
   ],
   "source": [
    "# confusion matrix \n",
    "nb_conf_matrix = confusion_matrix(y_test, predicted_results)\n",
    "\n",
    "# graphing\n",
    "fig = plt.figure(figsize = (8,5))\n",
    "\n",
    "ax = sns.heatmap(nb_conf_matrix , \n",
    "            annot = True,\n",
    "            fmt = '.0f')\n",
    "ax.set(title = 'Confusion Matrix - Naive Bayes Classification of Loan Description', \n",
    "         xlabel = 'Predicted label', \n",
    "         ylabel = 'True label', \n",
    "         xlim = (0,2), \n",
    "         ylim = (2,0))\n",
    "plt.show()"
   ]
  },
  {
   "cell_type": "code",
   "execution_count": 200,
   "metadata": {},
   "outputs": [],
   "source": [
    "## TA/INSTRUCTOR ONLY\n",
    "## MARK AWARDED: 1/1"
   ]
  },
  {
   "cell_type": "markdown",
   "metadata": {},
   "source": [
    "### Q9. How good is the performance of Naive Bayes Model?\n",
    "\n",
    "Is the model good at predicting Loan defaults?  \n",
    "\n",
    "What is the accuracy of predicting loan defaults (precision)?  \n",
    "\n",
    "What is the accuracy of predicting non-defaults?"
   ]
  },
  {
   "cell_type": "code",
   "execution_count": 229,
   "metadata": {},
   "outputs": [
    {
     "name": "stdout",
     "output_type": "stream",
     "text": [
      "accuracy of predicting loan defaults:  0.2945945945945946\n",
      "accuracy of predicting non default:  0.8483442907272214\n"
     ]
    }
   ],
   "source": [
    "# Accuracy = (TP + TN) / (TP + TN + FP + FN)\n",
    "# Precision = TP / (TP + FP)\n",
    "\n",
    "answer_1 = nb_conf_matrix[1][1]/(nb_conf_matrix[1][1] + nb_conf_matrix[0][1])\n",
    "print('accuracy of predicting loan defaults: ', answer_1)\n",
    "\n",
    "answer_2 = nb_conf_matrix[0][0]/(nb_conf_matrix[0][0] + nb_conf_matrix[1][0])\n",
    "print('accuracy of predicting non default: ', answer_2)\n",
    "\n",
    "# no, model not good at predicting loan defaults, only a precision of 0.295"
   ]
  },
  {
   "cell_type": "code",
   "execution_count": 202,
   "metadata": {},
   "outputs": [],
   "source": [
    "## TA/INSTRUCTOR ONLY\n",
    "## MARK AWARDED: /1"
   ]
  },
  {
   "cell_type": "markdown",
   "metadata": {},
   "source": [
    "## K-Means Clustering - 6 marks\n",
    "\n",
    "To discover more insights about the dataset, you decided to run the K-means clustering algorithm to discover the different clusters in the dataset. \n",
    "\n",
    "### Open Loans Data (Non-Description) File\n",
    "\n",
    "Open the `loans_transformed-200k.csv` as `all_loans_df`. "
   ]
  },
  {
   "cell_type": "code",
   "execution_count": 203,
   "metadata": {
    "scrolled": true
   },
   "outputs": [
    {
     "data": {
      "text/html": [
       "<div>\n",
       "<style scoped>\n",
       "    .dataframe tbody tr th:only-of-type {\n",
       "        vertical-align: middle;\n",
       "    }\n",
       "\n",
       "    .dataframe tbody tr th {\n",
       "        vertical-align: top;\n",
       "    }\n",
       "\n",
       "    .dataframe thead th {\n",
       "        text-align: right;\n",
       "    }\n",
       "</style>\n",
       "<table border=\"1\" class=\"dataframe\">\n",
       "  <thead>\n",
       "    <tr style=\"text-align: right;\">\n",
       "      <th></th>\n",
       "      <th>loan_amnt</th>\n",
       "      <th>term</th>\n",
       "      <th>int_rate</th>\n",
       "      <th>installment</th>\n",
       "      <th>grade</th>\n",
       "      <th>emp_length</th>\n",
       "      <th>home_ownership</th>\n",
       "      <th>annual_inc</th>\n",
       "      <th>verification_status</th>\n",
       "      <th>purpose</th>\n",
       "      <th>...</th>\n",
       "      <th>delinq_2yrs</th>\n",
       "      <th>loan_status</th>\n",
       "      <th>term_int</th>\n",
       "      <th>emp_length_int</th>\n",
       "      <th>home_ownership_int</th>\n",
       "      <th>verification_status_int</th>\n",
       "      <th>purpose_int</th>\n",
       "      <th>income_tax</th>\n",
       "      <th>int_round</th>\n",
       "      <th>target</th>\n",
       "    </tr>\n",
       "  </thead>\n",
       "  <tbody>\n",
       "    <tr>\n",
       "      <th>0</th>\n",
       "      <td>14400</td>\n",
       "      <td>36 months</td>\n",
       "      <td>14.47</td>\n",
       "      <td>495.46</td>\n",
       "      <td>C</td>\n",
       "      <td>10+ years</td>\n",
       "      <td>MORTGAGE</td>\n",
       "      <td>109000.0</td>\n",
       "      <td>Source Verified</td>\n",
       "      <td>debt_consolidation</td>\n",
       "      <td>...</td>\n",
       "      <td>1.0</td>\n",
       "      <td>Current</td>\n",
       "      <td>0</td>\n",
       "      <td>10</td>\n",
       "      <td>0</td>\n",
       "      <td>1</td>\n",
       "      <td>1</td>\n",
       "      <td>8175.0</td>\n",
       "      <td>14</td>\n",
       "      <td>Non Default</td>\n",
       "    </tr>\n",
       "    <tr>\n",
       "      <th>1</th>\n",
       "      <td>8000</td>\n",
       "      <td>36 months</td>\n",
       "      <td>10.75</td>\n",
       "      <td>260.97</td>\n",
       "      <td>B</td>\n",
       "      <td>3 years</td>\n",
       "      <td>MORTGAGE</td>\n",
       "      <td>50000.0</td>\n",
       "      <td>Source Verified</td>\n",
       "      <td>credit_card</td>\n",
       "      <td>...</td>\n",
       "      <td>0.0</td>\n",
       "      <td>Current</td>\n",
       "      <td>0</td>\n",
       "      <td>3</td>\n",
       "      <td>0</td>\n",
       "      <td>1</td>\n",
       "      <td>3</td>\n",
       "      <td>0.0</td>\n",
       "      <td>10</td>\n",
       "      <td>Non Default</td>\n",
       "    </tr>\n",
       "    <tr>\n",
       "      <th>2</th>\n",
       "      <td>9500</td>\n",
       "      <td>36 months</td>\n",
       "      <td>18.45</td>\n",
       "      <td>345.60</td>\n",
       "      <td>D</td>\n",
       "      <td>3 years</td>\n",
       "      <td>MORTGAGE</td>\n",
       "      <td>138000.0</td>\n",
       "      <td>Source Verified</td>\n",
       "      <td>credit_card</td>\n",
       "      <td>...</td>\n",
       "      <td>0.0</td>\n",
       "      <td>Current</td>\n",
       "      <td>0</td>\n",
       "      <td>3</td>\n",
       "      <td>0</td>\n",
       "      <td>1</td>\n",
       "      <td>3</td>\n",
       "      <td>10350.0</td>\n",
       "      <td>18</td>\n",
       "      <td>Non Default</td>\n",
       "    </tr>\n",
       "    <tr>\n",
       "      <th>3</th>\n",
       "      <td>16000</td>\n",
       "      <td>60 months</td>\n",
       "      <td>18.99</td>\n",
       "      <td>414.97</td>\n",
       "      <td>D</td>\n",
       "      <td>&lt; 1 year</td>\n",
       "      <td>OWN</td>\n",
       "      <td>66000.0</td>\n",
       "      <td>Not Verified</td>\n",
       "      <td>debt_consolidation</td>\n",
       "      <td>...</td>\n",
       "      <td>0.0</td>\n",
       "      <td>Current</td>\n",
       "      <td>1</td>\n",
       "      <td>0</td>\n",
       "      <td>1</td>\n",
       "      <td>2</td>\n",
       "      <td>1</td>\n",
       "      <td>4950.0</td>\n",
       "      <td>18</td>\n",
       "      <td>Non Default</td>\n",
       "    </tr>\n",
       "    <tr>\n",
       "      <th>4</th>\n",
       "      <td>6800</td>\n",
       "      <td>36 months</td>\n",
       "      <td>13.99</td>\n",
       "      <td>232.38</td>\n",
       "      <td>C</td>\n",
       "      <td>10+ years</td>\n",
       "      <td>MORTGAGE</td>\n",
       "      <td>63000.0</td>\n",
       "      <td>Not Verified</td>\n",
       "      <td>debt_consolidation</td>\n",
       "      <td>...</td>\n",
       "      <td>0.0</td>\n",
       "      <td>Current</td>\n",
       "      <td>0</td>\n",
       "      <td>10</td>\n",
       "      <td>0</td>\n",
       "      <td>2</td>\n",
       "      <td>1</td>\n",
       "      <td>0.0</td>\n",
       "      <td>13</td>\n",
       "      <td>Non Default</td>\n",
       "    </tr>\n",
       "  </tbody>\n",
       "</table>\n",
       "<p>5 rows × 21 columns</p>\n",
       "</div>"
      ],
      "text/plain": [
       "   loan_amnt        term  int_rate  installment grade emp_length  \\\n",
       "0      14400   36 months     14.47       495.46     C  10+ years   \n",
       "1       8000   36 months     10.75       260.97     B    3 years   \n",
       "2       9500   36 months     18.45       345.60     D    3 years   \n",
       "3      16000   60 months     18.99       414.97     D   < 1 year   \n",
       "4       6800   36 months     13.99       232.38     C  10+ years   \n",
       "\n",
       "  home_ownership  annual_inc verification_status             purpose  ...  \\\n",
       "0       MORTGAGE    109000.0     Source Verified  debt_consolidation  ...   \n",
       "1       MORTGAGE     50000.0     Source Verified         credit_card  ...   \n",
       "2       MORTGAGE    138000.0     Source Verified         credit_card  ...   \n",
       "3            OWN     66000.0        Not Verified  debt_consolidation  ...   \n",
       "4       MORTGAGE     63000.0        Not Verified  debt_consolidation  ...   \n",
       "\n",
       "   delinq_2yrs  loan_status term_int  emp_length_int  home_ownership_int  \\\n",
       "0          1.0      Current        0              10                   0   \n",
       "1          0.0      Current        0               3                   0   \n",
       "2          0.0      Current        0               3                   0   \n",
       "3          0.0      Current        1               0                   1   \n",
       "4          0.0      Current        0              10                   0   \n",
       "\n",
       "   verification_status_int  purpose_int  income_tax  int_round       target  \n",
       "0                        1            1      8175.0         14  Non Default  \n",
       "1                        1            3         0.0         10  Non Default  \n",
       "2                        1            3     10350.0         18  Non Default  \n",
       "3                        2            1      4950.0         18  Non Default  \n",
       "4                        2            1         0.0         13  Non Default  \n",
       "\n",
       "[5 rows x 21 columns]"
      ]
     },
     "execution_count": 203,
     "metadata": {},
     "output_type": "execute_result"
    }
   ],
   "source": [
    "all_loans_df = pd.read_csv('loans_transformed-200k.csv')\n",
    "all_loans_df.head()"
   ]
  },
  {
   "cell_type": "markdown",
   "metadata": {},
   "source": [
    "### Q10. Integer Encoding\n",
    "\n",
    "Just as the above Integer Encoding question, create a new column called `target_int` where `Non Default` is `0` and `Default` is `1`. \n",
    "\n",
    "**Expected Output:**\n",
    "\n",
    "<img src=\"https://i.imgur.com/D0VcNAs.png\"/>"
   ]
  },
  {
   "cell_type": "code",
   "execution_count": 204,
   "metadata": {
    "scrolled": true
   },
   "outputs": [
    {
     "data": {
      "text/plain": [
       "array(['Non Default', 'Default'], dtype=object)"
      ]
     },
     "execution_count": 204,
     "metadata": {},
     "output_type": "execute_result"
    }
   ],
   "source": [
    "all_loans_df['target'].unique()"
   ]
  },
  {
   "cell_type": "code",
   "execution_count": 205,
   "metadata": {},
   "outputs": [
    {
     "data": {
      "text/html": [
       "<div>\n",
       "<style scoped>\n",
       "    .dataframe tbody tr th:only-of-type {\n",
       "        vertical-align: middle;\n",
       "    }\n",
       "\n",
       "    .dataframe tbody tr th {\n",
       "        vertical-align: top;\n",
       "    }\n",
       "\n",
       "    .dataframe thead th {\n",
       "        text-align: right;\n",
       "    }\n",
       "</style>\n",
       "<table border=\"1\" class=\"dataframe\">\n",
       "  <thead>\n",
       "    <tr style=\"text-align: right;\">\n",
       "      <th></th>\n",
       "      <th>loan_amnt</th>\n",
       "      <th>term</th>\n",
       "      <th>int_rate</th>\n",
       "      <th>installment</th>\n",
       "      <th>grade</th>\n",
       "      <th>emp_length</th>\n",
       "      <th>home_ownership</th>\n",
       "      <th>annual_inc</th>\n",
       "      <th>verification_status</th>\n",
       "      <th>purpose</th>\n",
       "      <th>...</th>\n",
       "      <th>loan_status</th>\n",
       "      <th>term_int</th>\n",
       "      <th>emp_length_int</th>\n",
       "      <th>home_ownership_int</th>\n",
       "      <th>verification_status_int</th>\n",
       "      <th>purpose_int</th>\n",
       "      <th>income_tax</th>\n",
       "      <th>int_round</th>\n",
       "      <th>target</th>\n",
       "      <th>target_int</th>\n",
       "    </tr>\n",
       "  </thead>\n",
       "  <tbody>\n",
       "    <tr>\n",
       "      <th>0</th>\n",
       "      <td>14400</td>\n",
       "      <td>36 months</td>\n",
       "      <td>14.47</td>\n",
       "      <td>495.46</td>\n",
       "      <td>C</td>\n",
       "      <td>10+ years</td>\n",
       "      <td>MORTGAGE</td>\n",
       "      <td>109000.0</td>\n",
       "      <td>Source Verified</td>\n",
       "      <td>debt_consolidation</td>\n",
       "      <td>...</td>\n",
       "      <td>Current</td>\n",
       "      <td>0</td>\n",
       "      <td>10</td>\n",
       "      <td>0</td>\n",
       "      <td>1</td>\n",
       "      <td>1</td>\n",
       "      <td>8175.0</td>\n",
       "      <td>14</td>\n",
       "      <td>Non Default</td>\n",
       "      <td>0</td>\n",
       "    </tr>\n",
       "    <tr>\n",
       "      <th>1</th>\n",
       "      <td>8000</td>\n",
       "      <td>36 months</td>\n",
       "      <td>10.75</td>\n",
       "      <td>260.97</td>\n",
       "      <td>B</td>\n",
       "      <td>3 years</td>\n",
       "      <td>MORTGAGE</td>\n",
       "      <td>50000.0</td>\n",
       "      <td>Source Verified</td>\n",
       "      <td>credit_card</td>\n",
       "      <td>...</td>\n",
       "      <td>Current</td>\n",
       "      <td>0</td>\n",
       "      <td>3</td>\n",
       "      <td>0</td>\n",
       "      <td>1</td>\n",
       "      <td>3</td>\n",
       "      <td>0.0</td>\n",
       "      <td>10</td>\n",
       "      <td>Non Default</td>\n",
       "      <td>0</td>\n",
       "    </tr>\n",
       "    <tr>\n",
       "      <th>2</th>\n",
       "      <td>9500</td>\n",
       "      <td>36 months</td>\n",
       "      <td>18.45</td>\n",
       "      <td>345.60</td>\n",
       "      <td>D</td>\n",
       "      <td>3 years</td>\n",
       "      <td>MORTGAGE</td>\n",
       "      <td>138000.0</td>\n",
       "      <td>Source Verified</td>\n",
       "      <td>credit_card</td>\n",
       "      <td>...</td>\n",
       "      <td>Current</td>\n",
       "      <td>0</td>\n",
       "      <td>3</td>\n",
       "      <td>0</td>\n",
       "      <td>1</td>\n",
       "      <td>3</td>\n",
       "      <td>10350.0</td>\n",
       "      <td>18</td>\n",
       "      <td>Non Default</td>\n",
       "      <td>0</td>\n",
       "    </tr>\n",
       "    <tr>\n",
       "      <th>3</th>\n",
       "      <td>16000</td>\n",
       "      <td>60 months</td>\n",
       "      <td>18.99</td>\n",
       "      <td>414.97</td>\n",
       "      <td>D</td>\n",
       "      <td>&lt; 1 year</td>\n",
       "      <td>OWN</td>\n",
       "      <td>66000.0</td>\n",
       "      <td>Not Verified</td>\n",
       "      <td>debt_consolidation</td>\n",
       "      <td>...</td>\n",
       "      <td>Current</td>\n",
       "      <td>1</td>\n",
       "      <td>0</td>\n",
       "      <td>1</td>\n",
       "      <td>2</td>\n",
       "      <td>1</td>\n",
       "      <td>4950.0</td>\n",
       "      <td>18</td>\n",
       "      <td>Non Default</td>\n",
       "      <td>0</td>\n",
       "    </tr>\n",
       "    <tr>\n",
       "      <th>4</th>\n",
       "      <td>6800</td>\n",
       "      <td>36 months</td>\n",
       "      <td>13.99</td>\n",
       "      <td>232.38</td>\n",
       "      <td>C</td>\n",
       "      <td>10+ years</td>\n",
       "      <td>MORTGAGE</td>\n",
       "      <td>63000.0</td>\n",
       "      <td>Not Verified</td>\n",
       "      <td>debt_consolidation</td>\n",
       "      <td>...</td>\n",
       "      <td>Current</td>\n",
       "      <td>0</td>\n",
       "      <td>10</td>\n",
       "      <td>0</td>\n",
       "      <td>2</td>\n",
       "      <td>1</td>\n",
       "      <td>0.0</td>\n",
       "      <td>13</td>\n",
       "      <td>Non Default</td>\n",
       "      <td>0</td>\n",
       "    </tr>\n",
       "  </tbody>\n",
       "</table>\n",
       "<p>5 rows × 22 columns</p>\n",
       "</div>"
      ],
      "text/plain": [
       "   loan_amnt        term  int_rate  installment grade emp_length  \\\n",
       "0      14400   36 months     14.47       495.46     C  10+ years   \n",
       "1       8000   36 months     10.75       260.97     B    3 years   \n",
       "2       9500   36 months     18.45       345.60     D    3 years   \n",
       "3      16000   60 months     18.99       414.97     D   < 1 year   \n",
       "4       6800   36 months     13.99       232.38     C  10+ years   \n",
       "\n",
       "  home_ownership  annual_inc verification_status             purpose  ...  \\\n",
       "0       MORTGAGE    109000.0     Source Verified  debt_consolidation  ...   \n",
       "1       MORTGAGE     50000.0     Source Verified         credit_card  ...   \n",
       "2       MORTGAGE    138000.0     Source Verified         credit_card  ...   \n",
       "3            OWN     66000.0        Not Verified  debt_consolidation  ...   \n",
       "4       MORTGAGE     63000.0        Not Verified  debt_consolidation  ...   \n",
       "\n",
       "   loan_status  term_int emp_length_int  home_ownership_int  \\\n",
       "0      Current         0             10                   0   \n",
       "1      Current         0              3                   0   \n",
       "2      Current         0              3                   0   \n",
       "3      Current         1              0                   1   \n",
       "4      Current         0             10                   0   \n",
       "\n",
       "   verification_status_int  purpose_int  income_tax  int_round       target  \\\n",
       "0                        1            1      8175.0         14  Non Default   \n",
       "1                        1            3         0.0         10  Non Default   \n",
       "2                        1            3     10350.0         18  Non Default   \n",
       "3                        2            1      4950.0         18  Non Default   \n",
       "4                        2            1         0.0         13  Non Default   \n",
       "\n",
       "   target_int  \n",
       "0           0  \n",
       "1           0  \n",
       "2           0  \n",
       "3           0  \n",
       "4           0  \n",
       "\n",
       "[5 rows x 22 columns]"
      ]
     },
     "execution_count": 205,
     "metadata": {},
     "output_type": "execute_result"
    }
   ],
   "source": [
    "def int_encode(x):\n",
    "    if x == 'Default':\n",
    "        return 1\n",
    "    else:\n",
    "        return 0\n",
    "    \n",
    "all_loans_df['target_int'] = all_loans_df['target'].apply(int_encode)\n",
    "all_loans_df.head()"
   ]
  },
  {
   "cell_type": "code",
   "execution_count": 206,
   "metadata": {},
   "outputs": [],
   "source": [
    "## TA/INSTRUCTOR ONLY\n",
    "## MARK AWARDED: 1/1"
   ]
  },
  {
   "cell_type": "markdown",
   "metadata": {},
   "source": [
    "### Q11. Reduce to Numerical Data\n",
    "\n",
    "For K-means algorithm to work properly, your dataframe should only contain numeric variables/columns (i.e. only numbers). \n",
    "\n",
    "Select only numeric variables/columns from your dataframe.\n",
    "\n",
    "You also decided to drop the `int_round` and `income_tax` columns as they are similar to the other columns in the dataset. \n",
    "\n",
    "Store this dataframe as `loans_numeric_df`. \n",
    "\n",
    "**Expected Output:**\n",
    "\n",
    "<img src=\"https://i.imgur.com/6nwgt0k.png\">"
   ]
  },
  {
   "cell_type": "code",
   "execution_count": 207,
   "metadata": {},
   "outputs": [
    {
     "data": {
      "text/html": [
       "<div>\n",
       "<style scoped>\n",
       "    .dataframe tbody tr th:only-of-type {\n",
       "        vertical-align: middle;\n",
       "    }\n",
       "\n",
       "    .dataframe tbody tr th {\n",
       "        vertical-align: top;\n",
       "    }\n",
       "\n",
       "    .dataframe thead th {\n",
       "        text-align: right;\n",
       "    }\n",
       "</style>\n",
       "<table border=\"1\" class=\"dataframe\">\n",
       "  <thead>\n",
       "    <tr style=\"text-align: right;\">\n",
       "      <th></th>\n",
       "      <th>loan_amnt</th>\n",
       "      <th>int_rate</th>\n",
       "      <th>installment</th>\n",
       "      <th>annual_inc</th>\n",
       "      <th>dti</th>\n",
       "      <th>delinq_2yrs</th>\n",
       "      <th>term_int</th>\n",
       "      <th>emp_length_int</th>\n",
       "      <th>home_ownership_int</th>\n",
       "      <th>verification_status_int</th>\n",
       "      <th>purpose_int</th>\n",
       "      <th>target_int</th>\n",
       "    </tr>\n",
       "  </thead>\n",
       "  <tbody>\n",
       "    <tr>\n",
       "      <th>0</th>\n",
       "      <td>14400</td>\n",
       "      <td>14.47</td>\n",
       "      <td>495.46</td>\n",
       "      <td>109000.0</td>\n",
       "      <td>8.52</td>\n",
       "      <td>1.0</td>\n",
       "      <td>0</td>\n",
       "      <td>10</td>\n",
       "      <td>0</td>\n",
       "      <td>1</td>\n",
       "      <td>1</td>\n",
       "      <td>0</td>\n",
       "    </tr>\n",
       "    <tr>\n",
       "      <th>1</th>\n",
       "      <td>8000</td>\n",
       "      <td>10.75</td>\n",
       "      <td>260.97</td>\n",
       "      <td>50000.0</td>\n",
       "      <td>17.31</td>\n",
       "      <td>0.0</td>\n",
       "      <td>0</td>\n",
       "      <td>3</td>\n",
       "      <td>0</td>\n",
       "      <td>1</td>\n",
       "      <td>3</td>\n",
       "      <td>0</td>\n",
       "    </tr>\n",
       "    <tr>\n",
       "      <th>2</th>\n",
       "      <td>9500</td>\n",
       "      <td>18.45</td>\n",
       "      <td>345.60</td>\n",
       "      <td>138000.0</td>\n",
       "      <td>23.91</td>\n",
       "      <td>0.0</td>\n",
       "      <td>0</td>\n",
       "      <td>3</td>\n",
       "      <td>0</td>\n",
       "      <td>1</td>\n",
       "      <td>3</td>\n",
       "      <td>0</td>\n",
       "    </tr>\n",
       "    <tr>\n",
       "      <th>3</th>\n",
       "      <td>16000</td>\n",
       "      <td>18.99</td>\n",
       "      <td>414.97</td>\n",
       "      <td>66000.0</td>\n",
       "      <td>33.65</td>\n",
       "      <td>0.0</td>\n",
       "      <td>1</td>\n",
       "      <td>0</td>\n",
       "      <td>1</td>\n",
       "      <td>2</td>\n",
       "      <td>1</td>\n",
       "      <td>0</td>\n",
       "    </tr>\n",
       "    <tr>\n",
       "      <th>4</th>\n",
       "      <td>6800</td>\n",
       "      <td>13.99</td>\n",
       "      <td>232.38</td>\n",
       "      <td>63000.0</td>\n",
       "      <td>19.68</td>\n",
       "      <td>0.0</td>\n",
       "      <td>0</td>\n",
       "      <td>10</td>\n",
       "      <td>0</td>\n",
       "      <td>2</td>\n",
       "      <td>1</td>\n",
       "      <td>0</td>\n",
       "    </tr>\n",
       "  </tbody>\n",
       "</table>\n",
       "</div>"
      ],
      "text/plain": [
       "   loan_amnt  int_rate  installment  annual_inc    dti  delinq_2yrs  term_int  \\\n",
       "0      14400     14.47       495.46    109000.0   8.52          1.0         0   \n",
       "1       8000     10.75       260.97     50000.0  17.31          0.0         0   \n",
       "2       9500     18.45       345.60    138000.0  23.91          0.0         0   \n",
       "3      16000     18.99       414.97     66000.0  33.65          0.0         1   \n",
       "4       6800     13.99       232.38     63000.0  19.68          0.0         0   \n",
       "\n",
       "   emp_length_int  home_ownership_int  verification_status_int  purpose_int  \\\n",
       "0              10                   0                        1            1   \n",
       "1               3                   0                        1            3   \n",
       "2               3                   0                        1            3   \n",
       "3               0                   1                        2            1   \n",
       "4              10                   0                        2            1   \n",
       "\n",
       "   target_int  \n",
       "0           0  \n",
       "1           0  \n",
       "2           0  \n",
       "3           0  \n",
       "4           0  "
      ]
     },
     "execution_count": 207,
     "metadata": {},
     "output_type": "execute_result"
    }
   ],
   "source": [
    "# filter only numerics \n",
    "numerics = ['int16', 'int32', 'int64', 'float16', 'float32', 'float64']\n",
    "loans_numeric_df = all_loans_df.select_dtypes(include=numerics)\n",
    "\n",
    "# drop columns \n",
    "loans_numeric_df.drop(columns = ['int_round', 'income_tax'], inplace = True)\n",
    "\n",
    "# store as new df\n",
    "loans_numeric_df.head()"
   ]
  },
  {
   "cell_type": "code",
   "execution_count": 208,
   "metadata": {},
   "outputs": [],
   "source": [
    "## TA/INSTRUCTOR ONLY\n",
    "## MARK AWARDED: 1/1"
   ]
  },
  {
   "cell_type": "markdown",
   "metadata": {},
   "source": [
    "### Q12. Select Optimal K - Elbow Plot\n",
    "\n",
    "Plot the elbow plot by doing multiple iterations of the k-means algorithm, between a value of <b>2 to 12 (inclusive)</b>. Select a K that you think is appropriate to carry on in the next step. \n",
    "\n",
    "<b>Note: This will take about 2 minutes to compute all possible K values</b>\n",
    "\n",
    "**Expected Output:**\n",
    "\n",
    "<img src=\"https://i.imgur.com/yVp1qJL.png\">"
   ]
  },
  {
   "cell_type": "code",
   "execution_count": 209,
   "metadata": {},
   "outputs": [],
   "source": [
    "# explanation\n",
    "from sklearn.cluster import KMeans\n",
    "from matplotlib import pyplot as plt"
   ]
  },
  {
   "cell_type": "code",
   "execution_count": 210,
   "metadata": {},
   "outputs": [
    {
     "data": {
      "image/png": "[encoded data removed]",
      "text/plain": [
       "<Figure size 1080x360 with 1 Axes>"
      ]
     },
     "metadata": {
      "needs_background": "light"
     },
     "output_type": "display_data"
    }
   ],
   "source": [
    "# using for-loop to find the \"elbow\" point on inertia curve.\n",
    "X = loans_numeric_df # <<< Numerical DataFrame here\n",
    "distorsions = []\n",
    "for k in range(2, 13):\n",
    "    kmeans = KMeans(n_clusters=k)\n",
    "    kmeans.fit(X)\n",
    "    distorsions.append(kmeans.inertia_)\n",
    "\n",
    "fig = plt.figure(figsize=(15, 5))\n",
    "plt.plot(range(2, 13), distorsions)\n",
    "plt.grid(True)\n",
    "plt.title('Elbow curve')\n",
    "plt.xlabel('k') \n",
    "plt.ylabel('WSS')\n",
    "plt.show()"
   ]
  },
  {
   "cell_type": "code",
   "execution_count": 211,
   "metadata": {},
   "outputs": [],
   "source": [
    "## TA/INSTRUCTOR ONLY\n",
    "## PLOT MARK: 1/1"
   ]
  },
  {
   "cell_type": "markdown",
   "metadata": {},
   "source": [
    "### Q13. K-Means Clustering with Optimal K - 2 Marks\n",
    "\n",
    "Choose an <b>appropriate K</b> based on the chart above, then apply the k-means algorithm only once and store the model as `loans_kmeans`.\n",
    "\n",
    "Make sure `random_state` is 0."
   ]
  },
  {
   "cell_type": "code",
   "execution_count": 212,
   "metadata": {},
   "outputs": [
    {
     "name": "stdout",
     "output_type": "stream",
     "text": [
      "KMeans(algorithm='auto', copy_x=True, init='k-means++', max_iter=300,\n",
      "       n_clusters=8, n_init=10, n_jobs=None, precompute_distances='auto',\n",
      "       random_state=0, tol=0.0001, verbose=0)\n"
     ]
    }
   ],
   "source": [
    "k = 8\n",
    "model = KMeans(n_clusters=k,  # < Initialise Number Of Clusters here\n",
    "               random_state=0)\n",
    "\n",
    "loans_kmeans = model.fit(loans_numeric_df) # < DataFrame of All Variables\n",
    "print(loans_kmeans)"
   ]
  },
  {
   "cell_type": "code",
   "execution_count": 213,
   "metadata": {},
   "outputs": [],
   "source": [
    "## TA/INSTRUCTOR ONLY\n",
    "## MARK AWARDED: 1/1"
   ]
  },
  {
   "cell_type": "markdown",
   "metadata": {},
   "source": [
    "### Q14. Set Labels\n",
    "\n",
    "All loans are now tagged with a particular cluster or label. \n",
    "\n",
    "Using the `.labels_` attribute, create and add a new column named `label` to the `all_loans_df` dataframe. \n",
    "\n",
    "**Expected Output:** (for k = 8) \n",
    "\n",
    "A part of the dataset with the label column will look like the following.  \n",
    "\n",
    "<div class=\"alert alert-success\">\n",
    "Don't worry if your label numbers are different from the expected output.  This is because of the difference in random sampling on each computer.\n",
    "</div>\n",
    "\n",
    "<img src=\"https://i.imgur.com/CXbcmaW.png\" width=400>"
   ]
  },
  {
   "cell_type": "code",
   "execution_count": 214,
   "metadata": {},
   "outputs": [
    {
     "data": {
      "text/html": [
       "<div>\n",
       "<style scoped>\n",
       "    .dataframe tbody tr th:only-of-type {\n",
       "        vertical-align: middle;\n",
       "    }\n",
       "\n",
       "    .dataframe tbody tr th {\n",
       "        vertical-align: top;\n",
       "    }\n",
       "\n",
       "    .dataframe thead th {\n",
       "        text-align: right;\n",
       "    }\n",
       "</style>\n",
       "<table border=\"1\" class=\"dataframe\">\n",
       "  <thead>\n",
       "    <tr style=\"text-align: right;\">\n",
       "      <th></th>\n",
       "      <th>loan_amnt</th>\n",
       "      <th>term</th>\n",
       "      <th>int_rate</th>\n",
       "      <th>installment</th>\n",
       "      <th>grade</th>\n",
       "      <th>emp_length</th>\n",
       "      <th>home_ownership</th>\n",
       "      <th>annual_inc</th>\n",
       "      <th>verification_status</th>\n",
       "      <th>purpose</th>\n",
       "      <th>...</th>\n",
       "      <th>term_int</th>\n",
       "      <th>emp_length_int</th>\n",
       "      <th>home_ownership_int</th>\n",
       "      <th>verification_status_int</th>\n",
       "      <th>purpose_int</th>\n",
       "      <th>income_tax</th>\n",
       "      <th>int_round</th>\n",
       "      <th>target</th>\n",
       "      <th>target_int</th>\n",
       "      <th>label</th>\n",
       "    </tr>\n",
       "  </thead>\n",
       "  <tbody>\n",
       "    <tr>\n",
       "      <th>0</th>\n",
       "      <td>14400</td>\n",
       "      <td>36 months</td>\n",
       "      <td>14.47</td>\n",
       "      <td>495.46</td>\n",
       "      <td>C</td>\n",
       "      <td>10+ years</td>\n",
       "      <td>MORTGAGE</td>\n",
       "      <td>109000.0</td>\n",
       "      <td>Source Verified</td>\n",
       "      <td>debt_consolidation</td>\n",
       "      <td>...</td>\n",
       "      <td>0</td>\n",
       "      <td>10</td>\n",
       "      <td>0</td>\n",
       "      <td>1</td>\n",
       "      <td>1</td>\n",
       "      <td>8175.0</td>\n",
       "      <td>14</td>\n",
       "      <td>Non Default</td>\n",
       "      <td>0</td>\n",
       "      <td>2</td>\n",
       "    </tr>\n",
       "    <tr>\n",
       "      <th>1</th>\n",
       "      <td>8000</td>\n",
       "      <td>36 months</td>\n",
       "      <td>10.75</td>\n",
       "      <td>260.97</td>\n",
       "      <td>B</td>\n",
       "      <td>3 years</td>\n",
       "      <td>MORTGAGE</td>\n",
       "      <td>50000.0</td>\n",
       "      <td>Source Verified</td>\n",
       "      <td>credit_card</td>\n",
       "      <td>...</td>\n",
       "      <td>0</td>\n",
       "      <td>3</td>\n",
       "      <td>0</td>\n",
       "      <td>1</td>\n",
       "      <td>3</td>\n",
       "      <td>0.0</td>\n",
       "      <td>10</td>\n",
       "      <td>Non Default</td>\n",
       "      <td>0</td>\n",
       "      <td>0</td>\n",
       "    </tr>\n",
       "    <tr>\n",
       "      <th>2</th>\n",
       "      <td>9500</td>\n",
       "      <td>36 months</td>\n",
       "      <td>18.45</td>\n",
       "      <td>345.60</td>\n",
       "      <td>D</td>\n",
       "      <td>3 years</td>\n",
       "      <td>MORTGAGE</td>\n",
       "      <td>138000.0</td>\n",
       "      <td>Source Verified</td>\n",
       "      <td>credit_card</td>\n",
       "      <td>...</td>\n",
       "      <td>0</td>\n",
       "      <td>3</td>\n",
       "      <td>0</td>\n",
       "      <td>1</td>\n",
       "      <td>3</td>\n",
       "      <td>10350.0</td>\n",
       "      <td>18</td>\n",
       "      <td>Non Default</td>\n",
       "      <td>0</td>\n",
       "      <td>2</td>\n",
       "    </tr>\n",
       "    <tr>\n",
       "      <th>3</th>\n",
       "      <td>16000</td>\n",
       "      <td>60 months</td>\n",
       "      <td>18.99</td>\n",
       "      <td>414.97</td>\n",
       "      <td>D</td>\n",
       "      <td>&lt; 1 year</td>\n",
       "      <td>OWN</td>\n",
       "      <td>66000.0</td>\n",
       "      <td>Not Verified</td>\n",
       "      <td>debt_consolidation</td>\n",
       "      <td>...</td>\n",
       "      <td>1</td>\n",
       "      <td>0</td>\n",
       "      <td>1</td>\n",
       "      <td>2</td>\n",
       "      <td>1</td>\n",
       "      <td>4950.0</td>\n",
       "      <td>18</td>\n",
       "      <td>Non Default</td>\n",
       "      <td>0</td>\n",
       "      <td>7</td>\n",
       "    </tr>\n",
       "    <tr>\n",
       "      <th>4</th>\n",
       "      <td>6800</td>\n",
       "      <td>36 months</td>\n",
       "      <td>13.99</td>\n",
       "      <td>232.38</td>\n",
       "      <td>C</td>\n",
       "      <td>10+ years</td>\n",
       "      <td>MORTGAGE</td>\n",
       "      <td>63000.0</td>\n",
       "      <td>Not Verified</td>\n",
       "      <td>debt_consolidation</td>\n",
       "      <td>...</td>\n",
       "      <td>0</td>\n",
       "      <td>10</td>\n",
       "      <td>0</td>\n",
       "      <td>2</td>\n",
       "      <td>1</td>\n",
       "      <td>0.0</td>\n",
       "      <td>13</td>\n",
       "      <td>Non Default</td>\n",
       "      <td>0</td>\n",
       "      <td>7</td>\n",
       "    </tr>\n",
       "  </tbody>\n",
       "</table>\n",
       "<p>5 rows × 23 columns</p>\n",
       "</div>"
      ],
      "text/plain": [
       "   loan_amnt        term  int_rate  installment grade emp_length  \\\n",
       "0      14400   36 months     14.47       495.46     C  10+ years   \n",
       "1       8000   36 months     10.75       260.97     B    3 years   \n",
       "2       9500   36 months     18.45       345.60     D    3 years   \n",
       "3      16000   60 months     18.99       414.97     D   < 1 year   \n",
       "4       6800   36 months     13.99       232.38     C  10+ years   \n",
       "\n",
       "  home_ownership  annual_inc verification_status             purpose  ...  \\\n",
       "0       MORTGAGE    109000.0     Source Verified  debt_consolidation  ...   \n",
       "1       MORTGAGE     50000.0     Source Verified         credit_card  ...   \n",
       "2       MORTGAGE    138000.0     Source Verified         credit_card  ...   \n",
       "3            OWN     66000.0        Not Verified  debt_consolidation  ...   \n",
       "4       MORTGAGE     63000.0        Not Verified  debt_consolidation  ...   \n",
       "\n",
       "   term_int  emp_length_int home_ownership_int  verification_status_int  \\\n",
       "0         0              10                  0                        1   \n",
       "1         0               3                  0                        1   \n",
       "2         0               3                  0                        1   \n",
       "3         1               0                  1                        2   \n",
       "4         0              10                  0                        2   \n",
       "\n",
       "   purpose_int  income_tax  int_round       target  target_int  label  \n",
       "0            1      8175.0         14  Non Default           0      2  \n",
       "1            3         0.0         10  Non Default           0      0  \n",
       "2            3     10350.0         18  Non Default           0      2  \n",
       "3            1      4950.0         18  Non Default           0      7  \n",
       "4            1         0.0         13  Non Default           0      7  \n",
       "\n",
       "[5 rows x 23 columns]"
      ]
     },
     "execution_count": 214,
     "metadata": {},
     "output_type": "execute_result"
    }
   ],
   "source": [
    "all_loans_df['label'] = loans_kmeans.labels_\n",
    "all_loans_df.head()"
   ]
  },
  {
   "cell_type": "code",
   "execution_count": 215,
   "metadata": {},
   "outputs": [],
   "source": [
    "## TA/INSTRUCTOR ONLY\n",
    "## MARK AWARDED: 1/1"
   ]
  },
  {
   "cell_type": "markdown",
   "metadata": {},
   "source": [
    "### Q15. Clustering Analysis\n",
    "\n",
    "Now that you've labelled each loans, you want know the <b>proportion of default loans</b> within each cluster.  \n",
    "\n",
    "<div class=\"alert alert-success\">\n",
    "Your answer may be different from the expected output due to the randomness of K means. It is fine as long as you calculate the values in the correct way.\n",
    "</div>\n",
    "\n",
    "**Expected Output:** (for k = 8) \n",
    "\n",
    "```\n",
    "label  target     \n",
    "0      Default        0.112868\n",
    "       Non Default    0.887132\n",
    "1      Default        0.090909\n",
    "       Non Default    0.909091\n",
    "2      Default        0.078322\n",
    "       Non Default    0.921678\n",
    "3      Default        0.133080\n",
    "       Non Default    0.866920\n",
    "4      Default        0.062500\n",
    "       Non Default    0.937500\n",
    "5      Non Default    1.000000\n",
    "6      Default        0.090710\n",
    "       Non Default    0.909290\n",
    "7      Default        0.055154\n",
    "       Non Default    0.944846\n",
    "dtype: float64\n",
    "```\n"
   ]
  },
  {
   "cell_type": "code",
   "execution_count": 216,
   "metadata": {},
   "outputs": [
    {
     "data": {
      "text/plain": [
       "label  target     \n",
       "0      Default        0.133048\n",
       "       Non Default    0.866952\n",
       "1      Non Default    1.000000\n",
       "2      Default        0.090701\n",
       "       Non Default    0.909299\n",
       "3      Default        0.055154\n",
       "       Non Default    0.944846\n",
       "4      Default        0.090909\n",
       "       Non Default    0.909091\n",
       "5      Default        0.078554\n",
       "       Non Default    0.921446\n",
       "6      Default        0.062500\n",
       "       Non Default    0.937500\n",
       "7      Default        0.112986\n",
       "       Non Default    0.887014\n",
       "dtype: float64"
      ]
     },
     "execution_count": 216,
     "metadata": {},
     "output_type": "execute_result"
    }
   ],
   "source": [
    "df1 = all_loans_df.groupby('label')\n",
    "df2 = all_loans_df.groupby(['label', 'target'])\n",
    "\n",
    "# proportion \n",
    "total = df1.size()\n",
    "default = df2.size()\n",
    "prop = default/total\n",
    "\n",
    "prop"
   ]
  },
  {
   "cell_type": "code",
   "execution_count": 217,
   "metadata": {},
   "outputs": [],
   "source": [
    "## TA/INSTRUCTOR ONLY\n",
    "## MARK AWARDED: 1/1"
   ]
  },
  {
   "cell_type": "markdown",
   "metadata": {},
   "source": [
    "## Decision Tree Classifier - 3 marks\n",
    "\n",
    "### Q16. Train Test Split\n",
    "\n",
    "Similar to what you did using the Naive Bayes Classifier, split `loans_numeric_df` using `train_test_split()` into 4 different variables, `x_train`, `x_test`, `y_train` and `y_test`: \n",
    "\n",
    "- <b>first</b> argument should be a dataframe containing <b>all columns except</b> the `target_int` column\n",
    "- <b>second</b> argument should <b>only</b> be the `target_int` column\n",
    "- `random_state` is 0\n",
    "- `test_size` is 0.2"
   ]
  },
  {
   "cell_type": "code",
   "execution_count": 218,
   "metadata": {},
   "outputs": [],
   "source": [
    "from sklearn.model_selection import train_test_split\n",
    "\n",
    "df_x = loans_numeric_df.drop(['target_int'], axis=1)\n",
    "df_y = loans_numeric_df['target_int']\n",
    "\n",
    "X_train, X_test, y_train, y_test = train_test_split(df_x, df_y, \n",
    "                                                    random_state = 0, \n",
    "                                                    test_size = 0.2)"
   ]
  },
  {
   "cell_type": "code",
   "execution_count": 219,
   "metadata": {},
   "outputs": [],
   "source": [
    "## TA/INSTRUCTOR ONLY\n",
    "## MARK AWARDED: 1/1"
   ]
  },
  {
   "cell_type": "markdown",
   "metadata": {},
   "source": [
    "### Q17. Train the DecisionTree\n",
    "\n",
    "Create a new Decision Tree named `loans_clf` using scikit-learn's `DecisionTreeClassifier`\n",
    "\n",
    "Train it with the training set using `.fit()` \n",
    "\n",
    "Training set is in `x_train` and `y_train` variables. \n",
    "\n",
    "\n",
    "<b>Note: `random_state` should be `0`.</b>"
   ]
  },
  {
   "cell_type": "code",
   "execution_count": 220,
   "metadata": {},
   "outputs": [
    {
     "data": {
      "text/plain": [
       "DecisionTreeClassifier(class_weight=None, criterion='gini', max_depth=None,\n",
       "                       max_features=None, max_leaf_nodes=None,\n",
       "                       min_impurity_decrease=0.0, min_impurity_split=None,\n",
       "                       min_samples_leaf=1, min_samples_split=2,\n",
       "                       min_weight_fraction_leaf=0.0, presort=False,\n",
       "                       random_state=0, splitter='best')"
      ]
     },
     "execution_count": 220,
     "metadata": {},
     "output_type": "execute_result"
    }
   ],
   "source": [
    "from sklearn.tree import DecisionTreeClassifier\n",
    "\n",
    "# creating a tree\n",
    "loans_clf = DecisionTreeClassifier(random_state=0)\n",
    "\n",
    "# training tree\n",
    "loans_clf.fit(X_train, y_train)"
   ]
  },
  {
   "cell_type": "code",
   "execution_count": 221,
   "metadata": {},
   "outputs": [],
   "source": [
    "## TA/INSTRUCTOR ONLY\n",
    "## MARK AWARDED: 1/1"
   ]
  },
  {
   "cell_type": "markdown",
   "metadata": {},
   "source": [
    "### Q18. Confusion Matrix\n",
    "\n",
    "Print the confusion matrix\n",
    "\n",
    "Visualize the confusion matrix\n",
    "\n",
    "Plot the confusion matrix for the decision tree classifier by:\n",
    "\n",
    "1. Using `.predict` on the `x_test` to get the test results\n",
    "2. Use `sns.heatmap` to create confusion matrix\n",
    "3. Set `.ylim()` to (2,0)\n",
    "4. Set `.xlim()` to (0,2)\n",
    "\n",
    "**Expected Output:**\n",
    "\n",
    "```\n",
    "[[31050  4293]\n",
    " [ 3727   930]\n",
    "```\n",
    "<img src=\"https://i.imgur.com/UTSrTST.png\" width=400>"
   ]
  },
  {
   "cell_type": "code",
   "execution_count": 222,
   "metadata": {},
   "outputs": [],
   "source": [
    "import matplotlib.pyplot as plt\n",
    "import seaborn as sns\n",
    "from sklearn.metrics import confusion_matrix"
   ]
  },
  {
   "cell_type": "code",
   "execution_count": 223,
   "metadata": {},
   "outputs": [],
   "source": [
    "# predicting \n",
    "pred_x = loans_clf.predict(X_test)"
   ]
  },
  {
   "cell_type": "code",
   "execution_count": 224,
   "metadata": {},
   "outputs": [
    {
     "data": {
      "image/png": "[encoded data removed]",
      "text/plain": [
       "<Figure size 576x360 with 2 Axes>"
      ]
     },
     "metadata": {
      "needs_background": "light"
     },
     "output_type": "display_data"
    }
   ],
   "source": [
    "# confusion matrix \n",
    "dtree_conf_matrix = confusion_matrix(y_test, pred_x)\n",
    "\n",
    "# graphing\n",
    "fig = plt.figure(figsize = (8,5))\n",
    "\n",
    "ax = sns.heatmap(dtree_conf_matrix, \n",
    "            annot = True,\n",
    "            fmt = '.0f')\n",
    "ax.set(title = 'Confusion Matrix - Decision Tree Classification of Loan Description', \n",
    "         xlabel = 'Predicted label', \n",
    "         ylabel = 'True label', \n",
    "         xlim = (0,2), \n",
    "         ylim = (2,0))\n",
    "plt.show()"
   ]
  },
  {
   "cell_type": "code",
   "execution_count": 225,
   "metadata": {},
   "outputs": [],
   "source": [
    "## TA/INSTRUCTOR ONLY\n",
    "## MARK AWARDED: 1/1"
   ]
  },
  {
   "cell_type": "markdown",
   "metadata": {},
   "source": [
    "## Performance Measures - 2 marks\n",
    "\n",
    "### Q19. Accuracy & Precision\n",
    "\n",
    "Based on the above confusion matrices, calculate, <b>with workings</b>, the <b>Accuracy and Precision</b> for the:\n",
    "\n",
    "1. Naive Bayes Classifier\n",
    "2. Decision Tree Classifier"
   ]
  },
  {
   "cell_type": "code",
   "execution_count": 226,
   "metadata": {},
   "outputs": [
    {
     "name": "stdout",
     "output_type": "stream",
     "text": [
      "Accuracy of Naive Bayes Classifier:  0.8402018837181576\n",
      "Precision of Naive Bayes Classifier:  0.2945945945945946\n",
      "Accuracy of Decision Tree Classifier:  0.7995\n",
      "Precision of Decision Tree Classifier:  0.17805858701895463\n"
     ]
    }
   ],
   "source": [
    "# accuracy = (TP + TN) / (TP + TN + FP + FN)\n",
    "# Precision = TP / (TP + FP)\n",
    "\n",
    "# naive bayes \n",
    "nb_acc = (nb_conf_matrix[1][1] + nb_conf_matrix[0][0])/sum(sum(nb_conf_matrix))\n",
    "print('Accuracy of Naive Bayes Classifier: ', nb_acc)\n",
    "nb_prec = nb_conf_matrix[1][1]/(nb_conf_matrix[1][1] + nb_conf_matrix[0][1])\n",
    "print('Precision of Naive Bayes Classifier: ', nb_prec)\n",
    "\n",
    "# decision tree\n",
    "dtree_acc = (dtree_conf_matrix[1][1] + dtree_conf_matrix[0][0])/sum(sum(dtree_conf_matrix))\n",
    "print('Accuracy of Decision Tree Classifier: ', dtree_acc)\n",
    "dtree_prec = dtree_conf_matrix[1][1]/(dtree_conf_matrix[1][1] + dtree_conf_matrix[0][1])\n",
    "print('Precision of Decision Tree Classifier: ', dtree_prec)"
   ]
  },
  {
   "cell_type": "code",
   "execution_count": null,
   "metadata": {},
   "outputs": [],
   "source": [
    "## TA/INSTRUCTOR ONLY\n",
    "## MARK AWARDED: 1/1"
   ]
  },
  {
   "cell_type": "markdown",
   "metadata": {},
   "source": [
    "### Q20. Model Assessment\n",
    "\n",
    "After assessing the accuracy and precision scores, do you think that the models above are reliable in predicting whether loans will be defaulted? Explain your answer.  "
   ]
  },
  {
   "cell_type": "code",
   "execution_count": 228,
   "metadata": {},
   "outputs": [
    {
     "data": {
      "text/plain": [
       "target_int\n",
       "0    88.2745\n",
       "1    11.7255\n",
       "dtype: float64"
      ]
     },
     "execution_count": 228,
     "metadata": {},
     "output_type": "execute_result"
    }
   ],
   "source": [
    "target = all_loans_df.groupby('target_int')\n",
    "target.size()\n",
    "total = len(all_loans_df.index)\n",
    "prop = target.size()/total\n",
    "prop*100\n",
    "\n",
    "# not reliable. precision scores are poor for both models when this is a predictive model. "
   ]
  },
  {
   "cell_type": "code",
   "execution_count": null,
   "metadata": {},
   "outputs": [],
   "source": [
    "## TA/INSTRUCTOR ONLY\n",
    "## MARK AWARDED: 1/1"
   ]
  },
  {
   "cell_type": "markdown",
   "metadata": {},
   "source": [
    "<div class=\"alert alert-success\">\n",
    "<b>Checkpoint</b>: When you have completed, upload your progress to eLearn. eLearn only accepts the latest notebooks so if you have an existing notebook, your latest upload will <b>override</b> it.\n",
    "</div>"
   ]
  }
 ],
 "metadata": {
  "kernelspec": {
   "display_name": "Python 3",
   "language": "python",
   "name": "python3"
  },
  "language_info": {
   "codemirror_mode": {
    "name": "ipython",
    "version": 3
   },
   "file_extension": ".py",
   "mimetype": "text/x-python",
   "name": "python",
   "nbconvert_exporter": "python",
   "pygments_lexer": "ipython3",
   "version": "3.7.6"
  }
 },
 "nbformat": 4,
 "nbformat_minor": 4
}
